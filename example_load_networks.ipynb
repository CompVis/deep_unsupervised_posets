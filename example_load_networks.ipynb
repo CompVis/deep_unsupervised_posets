{
 "cells": [
  {
   "cell_type": "code",
   "execution_count": null,
   "metadata": {
    "collapsed": true
   },
   "outputs": [],
   "source": [
    "\"\"\"\n",
    "This is the example showing how to build a graph and load the weights of the pretrained model.\n",
    "\"\"\"\n",
    "import sys\n",
    "import os\n",
    "from os.path import join\n",
    "import numpy as np\n",
    "import tensorflow as tf\n",
    "\n",
    "os.environ['CUDA_VISIBLE_DEVICES'] = '1'"
   ]
  },
  {
   "cell_type": "code",
   "execution_count": null,
   "metadata": {
    "scrolled": true
   },
   "outputs": [],
   "source": [
    "import tfext.fcconvnetv2\n",
    "\n",
    "ALL_CATEGORIES = [\n",
    "                  'basketball_layup',\n",
    "                  'bowling',\n",
    "                  'clean_and_jerk',\n",
    "                  'discus_throw',\n",
    "                  'diving_platform_10m',\n",
    "                  'diving_springboard_3m',\n",
    "                  'hammer_throw',\n",
    "                  'high_jump',\n",
    "                  'javelin_throw',\n",
    "                  'long_jump',\n",
    "                  'pole_vault',\n",
    "                  'shot_put',\n",
    "                  'snatch',\n",
    "                  'tennis_serve',\n",
    "                  'triple_jump',\n",
    "                  'vault'\n",
    "]\n",
    "\n",
    "cat = 'discus_throw'\n",
    "print cat\n",
    "checkpoint_path = '{}_strip.ckpt'\n",
    "checkpoint_path = checkpoint_path.format(cat)\n",
    "\n",
    "\n",
    "tf.reset_default_graph()\n",
    "g = tf.Graph()\n",
    "with g.as_default():\n",
    "\n",
    "    params = {\n",
    "        'device_id': '/gpu:0',\n",
    "        'im_shape': (227, 227, 3),\n",
    "        'num_classes': 2, # size of the classification layer\n",
    "        'gpu_memory_fraction': 0.5,\n",
    "        'random_init_type': tfext.fcconvnetv2.FcConvnetV2.RandomInitType.XAVIER_GAUSSIAN\n",
    "    }\n",
    "    net = tfext.fcconvnetv2.FcConvnetV2(**params)\n",
    "    \n",
    "    num_layers_to_restore = 7\n",
    "    sess = tf.Session()\n",
    "    sess.run(tf.local_variables_initializer())\n",
    "    sess.run(tf.global_variables_initializer())\n",
    "    net.restore_from_snapshot(checkpoint_path, num_layers_to_restore, restore_iter_counter=False)\n",
    "\n",
    "sess.close()"
   ]
  },
  {
   "cell_type": "code",
   "execution_count": null,
   "metadata": {},
   "outputs": [],
   "source": [
    "import tfext.convnet\n",
    "\n",
    "\n",
    "checkpoint_path = ('olympic_sports_all_cat_convnet_scratch_strip.ckpt')\n",
    "\n",
    "\n",
    "tf.reset_default_graph()\n",
    "g = tf.Graph()\n",
    "with g.as_default():\n",
    "\n",
    "    params = {\n",
    "        'device_id': '/gpu:0',\n",
    "        'im_shape': (227, 227, 3),\n",
    "        'num_classes': 2, # size of the classification layer \n",
    "        'gpu_memory_fraction': 0.5,\n",
    "        'random_init_type': tfext.convnet.Convnet.RandomInitType.XAVIER_GAUSSIAN\n",
    "    }\n",
    "    net = tfext.convnet.Convnet(**params)\n",
    "    num_layers_to_restore = 5\n",
    "\n",
    "\n",
    "    sess = tf.Session()\n",
    "    sess.run(tf.local_variables_initializer())\n",
    "    sess.run(tf.global_variables_initializer())\n",
    "    net.restore_from_snapshot(checkpoint_path, num_layers_to_restore, restore_iter_counter=False)\n",
    "\n",
    "sess.close()"
   ]
  },
  {
   "cell_type": "code",
   "execution_count": null,
   "metadata": {
    "collapsed": true
   },
   "outputs": [],
   "source": []
  }
 ],
 "metadata": {
  "kernelspec": {
   "display_name": "Python 2",
   "language": "python",
   "name": "python2"
  },
  "language_info": {
   "codemirror_mode": {
    "name": "ipython",
    "version": 2
   },
   "file_extension": ".py",
   "mimetype": "text/x-python",
   "name": "python",
   "nbconvert_exporter": "python",
   "pygments_lexer": "ipython2",
   "version": "2.7.12"
  }
 },
 "nbformat": 4,
 "nbformat_minor": 2
}
